{
 "cells": [
  {
   "cell_type": "markdown",
   "id": "784823c4",
   "metadata": {},
   "source": [
    "Projeto Acerte o Número\n",
    "\n",
    "\n",
    "Crie um programa simples que gere números inteiros aleatórios entre 1-50, que peça um número do usuário e verifique se o valor inserido é igual ao aleatório. O programa deve ser repetido 15 vezes. Se o usuário digitar um número fora do intervalo válido o programa deverá ser encerrado. Se o usuário acertar o número aleatório mostre uma mensagem personalizada na tela, a cada laço de repetição.E caso o usuário não acerte, mostre na tela se o número que ele digitou foi maior ou menor que o número aleatório. Ao final mostre a quantidade de acertos.\n",
    "\n"
   ]
  },
  {
   "cell_type": "code",
   "execution_count": null,
   "id": "8feba053",
   "metadata": {},
   "outputs": [
    {
     "name": "stdout",
     "output_type": "stream",
     "text": [
      "Jogada 1\n",
      "Digite um número entre 1-50: 47\n",
      "Você Digitou um número maior que o aleatório\n",
      "Número Aleatório: 35\n",
      "Jogada 2\n"
     ]
    }
   ],
   "source": [
    "from random import randint\n",
    "acertos=0\n",
    " \n",
    "for num in range(1,16):\n",
    "    print(f'Jogada {num}')\n",
    "    bot=randint(1,50)\n",
    "    escolha_usuario=int(input('Digite um número entre 1-50: '))\n",
    "    \n",
    "    if escolha_usuario in range(1,51):\n",
    "        if escolha_usuario>bot:\n",
    "            print('Você Digitou um número maior que o aleatório')\n",
    "            print(f'Número Aleatório: {bot}')\n",
    "            \n",
    "        elif escolha_usuario<bot:\n",
    "            print('Você digitou um número menor que o aleatório')\n",
    "            print(f'Número Aleatório: {bot}')\n",
    "            \n",
    "        else:\n",
    "            print('Você acertou!')\n",
    "            acertos+=1\n",
    "    \n",
    "    else:\n",
    "        print('Fim.')\n",
    "        break\n",
    "        \n",
    "print(f'Número de acertos: {acertos}')\n",
    "    "
   ]
  },
  {
   "cell_type": "code",
   "execution_count": null,
   "id": "cddc62f4",
   "metadata": {},
   "outputs": [],
   "source": []
  }
 ],
 "metadata": {
  "kernelspec": {
   "display_name": "Python 3 (ipykernel)",
   "language": "python",
   "name": "python3"
  },
  "language_info": {
   "codemirror_mode": {
    "name": "ipython",
    "version": 3
   },
   "file_extension": ".py",
   "mimetype": "text/x-python",
   "name": "python",
   "nbconvert_exporter": "python",
   "pygments_lexer": "ipython3",
   "version": "3.9.12"
  }
 },
 "nbformat": 4,
 "nbformat_minor": 5
}
