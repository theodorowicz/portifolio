{
 "cells": [
  {
   "cell_type": "markdown",
   "id": "0b9311be",
   "metadata": {},
   "source": [
    "Simulador de Dado\n",
    "\n",
    "\n",
    "Crie um programa simples para simular o lançamento de um dado, que a cada laço de repetição verifique se o número inserido pelo usuário é igual ao valor aleatório do lançamento. O programa deve ser repetido indefinidamente até que o usuário digite 0 ou se o número digitado estiver fora do intervalo [1,6]. Ao final mostre o número de acertos e a quantidade de jogadas."
   ]
  },
  {
   "cell_type": "code",
   "execution_count": 1,
   "id": "51ddfe64",
   "metadata": {},
   "outputs": [
    {
     "name": "stdout",
     "output_type": "stream",
     "text": [
      "Digite 0 para sair ou escolha um número entre 1-6: 2\n",
      "Você errou!\n",
      "Digite 0 para sair ou escolha um número entre 1-6: 4\n",
      "Você errou!\n",
      "Digite 0 para sair ou escolha um número entre 1-6: 3\n",
      "Você errou!\n",
      "Digite 0 para sair ou escolha um número entre 1-6: 6\n",
      "Você errou!\n",
      "Digite 0 para sair ou escolha um número entre 1-6: 0\n",
      "Escolha inválida. O jogo encerrou!\n",
      "Número de jogadas: 4\n",
      "Números de acertos: 0\n"
     ]
    }
   ],
   "source": [
    "from random import randint\n",
    " \n",
    "bot=randint(1,6)\n",
    "escolha=1\n",
    "acertos=0\n",
    "jogadas=0\n",
    " \n",
    "while escolha!=0:\n",
    "    escolha=int(input('Digite 0 para sair ou escolha um número entre 1-6: '))\n",
    "    if escolha in [1,2,3,4,5,6]:\n",
    "        jogadas+=1\n",
    "        if escolha==bot:\n",
    "            print('Você acertou!')\n",
    "            acertos+=1\n",
    "        else:\n",
    "            print('Você errou!')\n",
    "    else:\n",
    "        print('Escolha inválida. O jogo encerrou!')\n",
    "        break\n",
    " \n",
    "print(f'Número de jogadas: {jogadas}')        \n",
    "print(f'Números de acertos: {acertos}')"
   ]
  },
  {
   "cell_type": "code",
   "execution_count": null,
   "id": "9d385c2c",
   "metadata": {},
   "outputs": [],
   "source": []
  }
 ],
 "metadata": {
  "kernelspec": {
   "display_name": "Python 3 (ipykernel)",
   "language": "python",
   "name": "python3"
  },
  "language_info": {
   "codemirror_mode": {
    "name": "ipython",
    "version": 3
   },
   "file_extension": ".py",
   "mimetype": "text/x-python",
   "name": "python",
   "nbconvert_exporter": "python",
   "pygments_lexer": "ipython3",
   "version": "3.9.12"
  }
 },
 "nbformat": 4,
 "nbformat_minor": 5
}
